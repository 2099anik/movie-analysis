{
 "cells": [
  {
   "cell_type": "code",
   "execution_count": 8,
   "id": "7ad7e0fa-4e23-4aaf-bb58-e6d574be8bd3",
   "metadata": {},
   "outputs": [],
   "source": [
    "import pandas as pd\n",
    "import matplotlib.pyplot as plt\n",
    "import seaborn as sns"
   ]
  },
  {
   "cell_type": "code",
   "execution_count": 10,
   "id": "88b41aee-d875-4465-9aec-d6e053fb6cb6",
   "metadata": {},
   "outputs": [],
   "source": [
    "mov = pd.read_csv(\"movie_metadata.csv\")"
   ]
  },
  {
   "cell_type": "code",
   "execution_count": 17,
   "id": "212eebd0-687b-4dfe-adea-70d44a7b05f4",
   "metadata": {},
   "outputs": [],
   "source": [
    "movie = mov.drop(labels=[\"color\",\n",
    "                         \"num_critic_for_reviews\",\n",
    "                         \"director_facebook_likes\",\n",
    "                         \"actor_3_facebook_likes\",\n",
    "                         \"actor_2_name\",\n",
    "                         \"actor_1_facebook_likes\",\n",
    "                         \"actor_1_name\",\n",
    "                         \"num_voted_users\",\n",
    "                         \"actor_3_name\",\n",
    "                         \"facenumber_in_poster\",\n",
    "                         \"plot_keywords\",\n",
    "                         \"movie_imdb_link\",\n",
    "                         \"num_user_for_reviews\",\n",
    "                         \"content_rating\",\n",
    "                         \"actor_2_facebook_likes\"\n",
    "                        ,\"aspect_ratio\",\n",
    "                         \"movie_facebook_likes\",\n",
    "                        \"cast_total_facebook_likes\"],axis=1)"
   ]
  },
  {
   "cell_type": "code",
   "execution_count": 18,
   "id": "4207288b-fe9e-4471-a02f-f7b78f1adc22",
   "metadata": {},
   "outputs": [
    {
     "data": {
      "text/html": [
       "<div>\n",
       "<style scoped>\n",
       "    .dataframe tbody tr th:only-of-type {\n",
       "        vertical-align: middle;\n",
       "    }\n",
       "\n",
       "    .dataframe tbody tr th {\n",
       "        vertical-align: top;\n",
       "    }\n",
       "\n",
       "    .dataframe thead th {\n",
       "        text-align: right;\n",
       "    }\n",
       "</style>\n",
       "<table border=\"1\" class=\"dataframe\">\n",
       "  <thead>\n",
       "    <tr style=\"text-align: right;\">\n",
       "      <th></th>\n",
       "      <th>director_name</th>\n",
       "      <th>duration</th>\n",
       "      <th>gross</th>\n",
       "      <th>genres</th>\n",
       "      <th>movie_title</th>\n",
       "      <th>language</th>\n",
       "      <th>country</th>\n",
       "      <th>budget</th>\n",
       "      <th>title_year</th>\n",
       "      <th>imdb_score</th>\n",
       "    </tr>\n",
       "  </thead>\n",
       "  <tbody>\n",
       "    <tr>\n",
       "      <th>0</th>\n",
       "      <td>James Cameron</td>\n",
       "      <td>178.0</td>\n",
       "      <td>760505847.0</td>\n",
       "      <td>Action|Adventure|Fantasy|Sci-Fi</td>\n",
       "      <td>Avatar</td>\n",
       "      <td>English</td>\n",
       "      <td>USA</td>\n",
       "      <td>237000000.0</td>\n",
       "      <td>2009.0</td>\n",
       "      <td>7.9</td>\n",
       "    </tr>\n",
       "    <tr>\n",
       "      <th>1</th>\n",
       "      <td>Gore Verbinski</td>\n",
       "      <td>169.0</td>\n",
       "      <td>309404152.0</td>\n",
       "      <td>Action|Adventure|Fantasy</td>\n",
       "      <td>Pirates of the Caribbean: At World's End</td>\n",
       "      <td>English</td>\n",
       "      <td>USA</td>\n",
       "      <td>300000000.0</td>\n",
       "      <td>2007.0</td>\n",
       "      <td>7.1</td>\n",
       "    </tr>\n",
       "    <tr>\n",
       "      <th>2</th>\n",
       "      <td>Sam Mendes</td>\n",
       "      <td>148.0</td>\n",
       "      <td>200074175.0</td>\n",
       "      <td>Action|Adventure|Thriller</td>\n",
       "      <td>Spectre</td>\n",
       "      <td>English</td>\n",
       "      <td>UK</td>\n",
       "      <td>245000000.0</td>\n",
       "      <td>2015.0</td>\n",
       "      <td>6.8</td>\n",
       "    </tr>\n",
       "    <tr>\n",
       "      <th>3</th>\n",
       "      <td>Christopher Nolan</td>\n",
       "      <td>164.0</td>\n",
       "      <td>448130642.0</td>\n",
       "      <td>Action|Thriller</td>\n",
       "      <td>The Dark Knight Rises</td>\n",
       "      <td>English</td>\n",
       "      <td>USA</td>\n",
       "      <td>250000000.0</td>\n",
       "      <td>2012.0</td>\n",
       "      <td>8.5</td>\n",
       "    </tr>\n",
       "    <tr>\n",
       "      <th>4</th>\n",
       "      <td>Doug Walker</td>\n",
       "      <td>NaN</td>\n",
       "      <td>NaN</td>\n",
       "      <td>Documentary</td>\n",
       "      <td>Star Wars: Episode VII - The Force Awakens    ...</td>\n",
       "      <td>NaN</td>\n",
       "      <td>NaN</td>\n",
       "      <td>NaN</td>\n",
       "      <td>NaN</td>\n",
       "      <td>7.1</td>\n",
       "    </tr>\n",
       "    <tr>\n",
       "      <th>...</th>\n",
       "      <td>...</td>\n",
       "      <td>...</td>\n",
       "      <td>...</td>\n",
       "      <td>...</td>\n",
       "      <td>...</td>\n",
       "      <td>...</td>\n",
       "      <td>...</td>\n",
       "      <td>...</td>\n",
       "      <td>...</td>\n",
       "      <td>...</td>\n",
       "    </tr>\n",
       "    <tr>\n",
       "      <th>5038</th>\n",
       "      <td>Scott Smith</td>\n",
       "      <td>87.0</td>\n",
       "      <td>NaN</td>\n",
       "      <td>Comedy|Drama</td>\n",
       "      <td>Signed Sealed Delivered</td>\n",
       "      <td>English</td>\n",
       "      <td>Canada</td>\n",
       "      <td>NaN</td>\n",
       "      <td>2013.0</td>\n",
       "      <td>7.7</td>\n",
       "    </tr>\n",
       "    <tr>\n",
       "      <th>5039</th>\n",
       "      <td>NaN</td>\n",
       "      <td>43.0</td>\n",
       "      <td>NaN</td>\n",
       "      <td>Crime|Drama|Mystery|Thriller</td>\n",
       "      <td>The Following</td>\n",
       "      <td>English</td>\n",
       "      <td>USA</td>\n",
       "      <td>NaN</td>\n",
       "      <td>NaN</td>\n",
       "      <td>7.5</td>\n",
       "    </tr>\n",
       "    <tr>\n",
       "      <th>5040</th>\n",
       "      <td>Benjamin Roberds</td>\n",
       "      <td>76.0</td>\n",
       "      <td>NaN</td>\n",
       "      <td>Drama|Horror|Thriller</td>\n",
       "      <td>A Plague So Pleasant</td>\n",
       "      <td>English</td>\n",
       "      <td>USA</td>\n",
       "      <td>1400.0</td>\n",
       "      <td>2013.0</td>\n",
       "      <td>6.3</td>\n",
       "    </tr>\n",
       "    <tr>\n",
       "      <th>5041</th>\n",
       "      <td>Daniel Hsia</td>\n",
       "      <td>100.0</td>\n",
       "      <td>10443.0</td>\n",
       "      <td>Comedy|Drama|Romance</td>\n",
       "      <td>Shanghai Calling</td>\n",
       "      <td>English</td>\n",
       "      <td>USA</td>\n",
       "      <td>NaN</td>\n",
       "      <td>2012.0</td>\n",
       "      <td>6.3</td>\n",
       "    </tr>\n",
       "    <tr>\n",
       "      <th>5042</th>\n",
       "      <td>Jon Gunn</td>\n",
       "      <td>90.0</td>\n",
       "      <td>85222.0</td>\n",
       "      <td>Documentary</td>\n",
       "      <td>My Date with Drew</td>\n",
       "      <td>English</td>\n",
       "      <td>USA</td>\n",
       "      <td>1100.0</td>\n",
       "      <td>2004.0</td>\n",
       "      <td>6.6</td>\n",
       "    </tr>\n",
       "  </tbody>\n",
       "</table>\n",
       "<p>5043 rows × 10 columns</p>\n",
       "</div>"
      ],
      "text/plain": [
       "          director_name  duration        gross  \\\n",
       "0         James Cameron     178.0  760505847.0   \n",
       "1        Gore Verbinski     169.0  309404152.0   \n",
       "2            Sam Mendes     148.0  200074175.0   \n",
       "3     Christopher Nolan     164.0  448130642.0   \n",
       "4           Doug Walker       NaN          NaN   \n",
       "...                 ...       ...          ...   \n",
       "5038        Scott Smith      87.0          NaN   \n",
       "5039                NaN      43.0          NaN   \n",
       "5040   Benjamin Roberds      76.0          NaN   \n",
       "5041        Daniel Hsia     100.0      10443.0   \n",
       "5042           Jon Gunn      90.0      85222.0   \n",
       "\n",
       "                               genres  \\\n",
       "0     Action|Adventure|Fantasy|Sci-Fi   \n",
       "1            Action|Adventure|Fantasy   \n",
       "2           Action|Adventure|Thriller   \n",
       "3                     Action|Thriller   \n",
       "4                         Documentary   \n",
       "...                               ...   \n",
       "5038                     Comedy|Drama   \n",
       "5039     Crime|Drama|Mystery|Thriller   \n",
       "5040            Drama|Horror|Thriller   \n",
       "5041             Comedy|Drama|Romance   \n",
       "5042                      Documentary   \n",
       "\n",
       "                                            movie_title language country  \\\n",
       "0                                               Avatar   English     USA   \n",
       "1             Pirates of the Caribbean: At World's End   English     USA   \n",
       "2                                              Spectre   English      UK   \n",
       "3                                The Dark Knight Rises   English     USA   \n",
       "4     Star Wars: Episode VII - The Force Awakens    ...      NaN     NaN   \n",
       "...                                                 ...      ...     ...   \n",
       "5038                           Signed Sealed Delivered   English  Canada   \n",
       "5039                         The Following               English     USA   \n",
       "5040                              A Plague So Pleasant   English     USA   \n",
       "5041                                  Shanghai Calling   English     USA   \n",
       "5042                                 My Date with Drew   English     USA   \n",
       "\n",
       "           budget  title_year  imdb_score  \n",
       "0     237000000.0      2009.0         7.9  \n",
       "1     300000000.0      2007.0         7.1  \n",
       "2     245000000.0      2015.0         6.8  \n",
       "3     250000000.0      2012.0         8.5  \n",
       "4             NaN         NaN         7.1  \n",
       "...           ...         ...         ...  \n",
       "5038          NaN      2013.0         7.7  \n",
       "5039          NaN         NaN         7.5  \n",
       "5040       1400.0      2013.0         6.3  \n",
       "5041          NaN      2012.0         6.3  \n",
       "5042       1100.0      2004.0         6.6  \n",
       "\n",
       "[5043 rows x 10 columns]"
      ]
     },
     "execution_count": 18,
     "metadata": {},
     "output_type": "execute_result"
    }
   ],
   "source": [
    "movie\n"
   ]
  },
  {
   "cell_type": "code",
   "execution_count": 25,
   "id": "29e1d39e-3bb8-43df-9b71-f2593113eaa9",
   "metadata": {},
   "outputs": [],
   "source": [
    "movie1=movie[movie[\"gross\"].notna() & movie[\"budget\"].notna()]"
   ]
  },
  {
   "cell_type": "code",
   "execution_count": 26,
   "id": "32ca6e4b-f48c-4159-b833-f456f0be73ab",
   "metadata": {},
   "outputs": [
    {
     "data": {
      "text/html": [
       "<div>\n",
       "<style scoped>\n",
       "    .dataframe tbody tr th:only-of-type {\n",
       "        vertical-align: middle;\n",
       "    }\n",
       "\n",
       "    .dataframe tbody tr th {\n",
       "        vertical-align: top;\n",
       "    }\n",
       "\n",
       "    .dataframe thead th {\n",
       "        text-align: right;\n",
       "    }\n",
       "</style>\n",
       "<table border=\"1\" class=\"dataframe\">\n",
       "  <thead>\n",
       "    <tr style=\"text-align: right;\">\n",
       "      <th></th>\n",
       "      <th>director_name</th>\n",
       "      <th>duration</th>\n",
       "      <th>gross</th>\n",
       "      <th>genres</th>\n",
       "      <th>movie_title</th>\n",
       "      <th>language</th>\n",
       "      <th>country</th>\n",
       "      <th>budget</th>\n",
       "      <th>title_year</th>\n",
       "      <th>imdb_score</th>\n",
       "    </tr>\n",
       "  </thead>\n",
       "  <tbody>\n",
       "    <tr>\n",
       "      <th>0</th>\n",
       "      <td>James Cameron</td>\n",
       "      <td>178.0</td>\n",
       "      <td>760505847.0</td>\n",
       "      <td>Action|Adventure|Fantasy|Sci-Fi</td>\n",
       "      <td>Avatar</td>\n",
       "      <td>English</td>\n",
       "      <td>USA</td>\n",
       "      <td>237000000.0</td>\n",
       "      <td>2009.0</td>\n",
       "      <td>7.9</td>\n",
       "    </tr>\n",
       "    <tr>\n",
       "      <th>1</th>\n",
       "      <td>Gore Verbinski</td>\n",
       "      <td>169.0</td>\n",
       "      <td>309404152.0</td>\n",
       "      <td>Action|Adventure|Fantasy</td>\n",
       "      <td>Pirates of the Caribbean: At World's End</td>\n",
       "      <td>English</td>\n",
       "      <td>USA</td>\n",
       "      <td>300000000.0</td>\n",
       "      <td>2007.0</td>\n",
       "      <td>7.1</td>\n",
       "    </tr>\n",
       "    <tr>\n",
       "      <th>2</th>\n",
       "      <td>Sam Mendes</td>\n",
       "      <td>148.0</td>\n",
       "      <td>200074175.0</td>\n",
       "      <td>Action|Adventure|Thriller</td>\n",
       "      <td>Spectre</td>\n",
       "      <td>English</td>\n",
       "      <td>UK</td>\n",
       "      <td>245000000.0</td>\n",
       "      <td>2015.0</td>\n",
       "      <td>6.8</td>\n",
       "    </tr>\n",
       "    <tr>\n",
       "      <th>3</th>\n",
       "      <td>Christopher Nolan</td>\n",
       "      <td>164.0</td>\n",
       "      <td>448130642.0</td>\n",
       "      <td>Action|Thriller</td>\n",
       "      <td>The Dark Knight Rises</td>\n",
       "      <td>English</td>\n",
       "      <td>USA</td>\n",
       "      <td>250000000.0</td>\n",
       "      <td>2012.0</td>\n",
       "      <td>8.5</td>\n",
       "    </tr>\n",
       "    <tr>\n",
       "      <th>5</th>\n",
       "      <td>Andrew Stanton</td>\n",
       "      <td>132.0</td>\n",
       "      <td>73058679.0</td>\n",
       "      <td>Action|Adventure|Sci-Fi</td>\n",
       "      <td>John Carter</td>\n",
       "      <td>English</td>\n",
       "      <td>USA</td>\n",
       "      <td>263700000.0</td>\n",
       "      <td>2012.0</td>\n",
       "      <td>6.6</td>\n",
       "    </tr>\n",
       "    <tr>\n",
       "      <th>...</th>\n",
       "      <td>...</td>\n",
       "      <td>...</td>\n",
       "      <td>...</td>\n",
       "      <td>...</td>\n",
       "      <td>...</td>\n",
       "      <td>...</td>\n",
       "      <td>...</td>\n",
       "      <td>...</td>\n",
       "      <td>...</td>\n",
       "      <td>...</td>\n",
       "    </tr>\n",
       "    <tr>\n",
       "      <th>5033</th>\n",
       "      <td>Shane Carruth</td>\n",
       "      <td>77.0</td>\n",
       "      <td>424760.0</td>\n",
       "      <td>Drama|Sci-Fi|Thriller</td>\n",
       "      <td>Primer</td>\n",
       "      <td>English</td>\n",
       "      <td>USA</td>\n",
       "      <td>7000.0</td>\n",
       "      <td>2004.0</td>\n",
       "      <td>7.0</td>\n",
       "    </tr>\n",
       "    <tr>\n",
       "      <th>5034</th>\n",
       "      <td>Neill Dela Llana</td>\n",
       "      <td>80.0</td>\n",
       "      <td>70071.0</td>\n",
       "      <td>Thriller</td>\n",
       "      <td>Cavite</td>\n",
       "      <td>English</td>\n",
       "      <td>Philippines</td>\n",
       "      <td>7000.0</td>\n",
       "      <td>2005.0</td>\n",
       "      <td>6.3</td>\n",
       "    </tr>\n",
       "    <tr>\n",
       "      <th>5035</th>\n",
       "      <td>Robert Rodriguez</td>\n",
       "      <td>81.0</td>\n",
       "      <td>2040920.0</td>\n",
       "      <td>Action|Crime|Drama|Romance|Thriller</td>\n",
       "      <td>El Mariachi</td>\n",
       "      <td>Spanish</td>\n",
       "      <td>USA</td>\n",
       "      <td>7000.0</td>\n",
       "      <td>1992.0</td>\n",
       "      <td>6.9</td>\n",
       "    </tr>\n",
       "    <tr>\n",
       "      <th>5037</th>\n",
       "      <td>Edward Burns</td>\n",
       "      <td>95.0</td>\n",
       "      <td>4584.0</td>\n",
       "      <td>Comedy|Drama</td>\n",
       "      <td>Newlyweds</td>\n",
       "      <td>English</td>\n",
       "      <td>USA</td>\n",
       "      <td>9000.0</td>\n",
       "      <td>2011.0</td>\n",
       "      <td>6.4</td>\n",
       "    </tr>\n",
       "    <tr>\n",
       "      <th>5042</th>\n",
       "      <td>Jon Gunn</td>\n",
       "      <td>90.0</td>\n",
       "      <td>85222.0</td>\n",
       "      <td>Documentary</td>\n",
       "      <td>My Date with Drew</td>\n",
       "      <td>English</td>\n",
       "      <td>USA</td>\n",
       "      <td>1100.0</td>\n",
       "      <td>2004.0</td>\n",
       "      <td>6.6</td>\n",
       "    </tr>\n",
       "  </tbody>\n",
       "</table>\n",
       "<p>3891 rows × 10 columns</p>\n",
       "</div>"
      ],
      "text/plain": [
       "          director_name  duration        gross  \\\n",
       "0         James Cameron     178.0  760505847.0   \n",
       "1        Gore Verbinski     169.0  309404152.0   \n",
       "2            Sam Mendes     148.0  200074175.0   \n",
       "3     Christopher Nolan     164.0  448130642.0   \n",
       "5        Andrew Stanton     132.0   73058679.0   \n",
       "...                 ...       ...          ...   \n",
       "5033      Shane Carruth      77.0     424760.0   \n",
       "5034   Neill Dela Llana      80.0      70071.0   \n",
       "5035   Robert Rodriguez      81.0    2040920.0   \n",
       "5037       Edward Burns      95.0       4584.0   \n",
       "5042           Jon Gunn      90.0      85222.0   \n",
       "\n",
       "                                   genres  \\\n",
       "0         Action|Adventure|Fantasy|Sci-Fi   \n",
       "1                Action|Adventure|Fantasy   \n",
       "2               Action|Adventure|Thriller   \n",
       "3                         Action|Thriller   \n",
       "5                 Action|Adventure|Sci-Fi   \n",
       "...                                   ...   \n",
       "5033                Drama|Sci-Fi|Thriller   \n",
       "5034                             Thriller   \n",
       "5035  Action|Crime|Drama|Romance|Thriller   \n",
       "5037                         Comedy|Drama   \n",
       "5042                          Documentary   \n",
       "\n",
       "                                    movie_title language      country  \\\n",
       "0                                       Avatar   English          USA   \n",
       "1     Pirates of the Caribbean: At World's End   English          USA   \n",
       "2                                      Spectre   English           UK   \n",
       "3                        The Dark Knight Rises   English          USA   \n",
       "5                                  John Carter   English          USA   \n",
       "...                                         ...      ...          ...   \n",
       "5033                                    Primer   English          USA   \n",
       "5034                                    Cavite   English  Philippines   \n",
       "5035                               El Mariachi   Spanish          USA   \n",
       "5037                                 Newlyweds   English          USA   \n",
       "5042                         My Date with Drew   English          USA   \n",
       "\n",
       "           budget  title_year  imdb_score  \n",
       "0     237000000.0      2009.0         7.9  \n",
       "1     300000000.0      2007.0         7.1  \n",
       "2     245000000.0      2015.0         6.8  \n",
       "3     250000000.0      2012.0         8.5  \n",
       "5     263700000.0      2012.0         6.6  \n",
       "...           ...         ...         ...  \n",
       "5033       7000.0      2004.0         7.0  \n",
       "5034       7000.0      2005.0         6.3  \n",
       "5035       7000.0      1992.0         6.9  \n",
       "5037       9000.0      2011.0         6.4  \n",
       "5042       1100.0      2004.0         6.6  \n",
       "\n",
       "[3891 rows x 10 columns]"
      ]
     },
     "execution_count": 26,
     "metadata": {},
     "output_type": "execute_result"
    }
   ],
   "source": [
    "movie1"
   ]
  },
  {
   "cell_type": "code",
   "execution_count": 28,
   "id": "9d2f55fb-0313-40b2-8ac3-1fe7fe199967",
   "metadata": {},
   "outputs": [],
   "source": [
    "movie2 = movie1[movie1[\"title_year\"] > 2010]"
   ]
  },
  {
   "cell_type": "code",
   "execution_count": 29,
   "id": "73486546-8e2e-4e1f-92c8-04837b447419",
   "metadata": {},
   "outputs": [
    {
     "data": {
      "text/html": [
       "<div>\n",
       "<style scoped>\n",
       "    .dataframe tbody tr th:only-of-type {\n",
       "        vertical-align: middle;\n",
       "    }\n",
       "\n",
       "    .dataframe tbody tr th {\n",
       "        vertical-align: top;\n",
       "    }\n",
       "\n",
       "    .dataframe thead th {\n",
       "        text-align: right;\n",
       "    }\n",
       "</style>\n",
       "<table border=\"1\" class=\"dataframe\">\n",
       "  <thead>\n",
       "    <tr style=\"text-align: right;\">\n",
       "      <th></th>\n",
       "      <th>director_name</th>\n",
       "      <th>duration</th>\n",
       "      <th>gross</th>\n",
       "      <th>genres</th>\n",
       "      <th>movie_title</th>\n",
       "      <th>language</th>\n",
       "      <th>country</th>\n",
       "      <th>budget</th>\n",
       "      <th>title_year</th>\n",
       "      <th>imdb_score</th>\n",
       "    </tr>\n",
       "  </thead>\n",
       "  <tbody>\n",
       "    <tr>\n",
       "      <th>2</th>\n",
       "      <td>Sam Mendes</td>\n",
       "      <td>148.0</td>\n",
       "      <td>200074175.0</td>\n",
       "      <td>Action|Adventure|Thriller</td>\n",
       "      <td>Spectre</td>\n",
       "      <td>English</td>\n",
       "      <td>UK</td>\n",
       "      <td>245000000.0</td>\n",
       "      <td>2015.0</td>\n",
       "      <td>6.8</td>\n",
       "    </tr>\n",
       "    <tr>\n",
       "      <th>3</th>\n",
       "      <td>Christopher Nolan</td>\n",
       "      <td>164.0</td>\n",
       "      <td>448130642.0</td>\n",
       "      <td>Action|Thriller</td>\n",
       "      <td>The Dark Knight Rises</td>\n",
       "      <td>English</td>\n",
       "      <td>USA</td>\n",
       "      <td>250000000.0</td>\n",
       "      <td>2012.0</td>\n",
       "      <td>8.5</td>\n",
       "    </tr>\n",
       "    <tr>\n",
       "      <th>5</th>\n",
       "      <td>Andrew Stanton</td>\n",
       "      <td>132.0</td>\n",
       "      <td>73058679.0</td>\n",
       "      <td>Action|Adventure|Sci-Fi</td>\n",
       "      <td>John Carter</td>\n",
       "      <td>English</td>\n",
       "      <td>USA</td>\n",
       "      <td>263700000.0</td>\n",
       "      <td>2012.0</td>\n",
       "      <td>6.6</td>\n",
       "    </tr>\n",
       "    <tr>\n",
       "      <th>8</th>\n",
       "      <td>Joss Whedon</td>\n",
       "      <td>141.0</td>\n",
       "      <td>458991599.0</td>\n",
       "      <td>Action|Adventure|Sci-Fi</td>\n",
       "      <td>Avengers: Age of Ultron</td>\n",
       "      <td>English</td>\n",
       "      <td>USA</td>\n",
       "      <td>250000000.0</td>\n",
       "      <td>2015.0</td>\n",
       "      <td>7.5</td>\n",
       "    </tr>\n",
       "    <tr>\n",
       "      <th>10</th>\n",
       "      <td>Zack Snyder</td>\n",
       "      <td>183.0</td>\n",
       "      <td>330249062.0</td>\n",
       "      <td>Action|Adventure|Sci-Fi</td>\n",
       "      <td>Batman v Superman: Dawn of Justice</td>\n",
       "      <td>English</td>\n",
       "      <td>USA</td>\n",
       "      <td>250000000.0</td>\n",
       "      <td>2016.0</td>\n",
       "      <td>6.9</td>\n",
       "    </tr>\n",
       "    <tr>\n",
       "      <th>...</th>\n",
       "      <td>...</td>\n",
       "      <td>...</td>\n",
       "      <td>...</td>\n",
       "      <td>...</td>\n",
       "      <td>...</td>\n",
       "      <td>...</td>\n",
       "      <td>...</td>\n",
       "      <td>...</td>\n",
       "      <td>...</td>\n",
       "      <td>...</td>\n",
       "    </tr>\n",
       "    <tr>\n",
       "      <th>4964</th>\n",
       "      <td>E.L. Katz</td>\n",
       "      <td>88.0</td>\n",
       "      <td>59379.0</td>\n",
       "      <td>Comedy|Crime|Drama|Horror|Thriller</td>\n",
       "      <td>Cheap Thrills</td>\n",
       "      <td>English</td>\n",
       "      <td>USA</td>\n",
       "      <td>200000.0</td>\n",
       "      <td>2013.0</td>\n",
       "      <td>6.8</td>\n",
       "    </tr>\n",
       "    <tr>\n",
       "      <th>4978</th>\n",
       "      <td>Brandon Trost</td>\n",
       "      <td>82.0</td>\n",
       "      <td>40557.0</td>\n",
       "      <td>Comedy</td>\n",
       "      <td>The FP</td>\n",
       "      <td>English</td>\n",
       "      <td>USA</td>\n",
       "      <td>60000.0</td>\n",
       "      <td>2011.0</td>\n",
       "      <td>5.6</td>\n",
       "    </tr>\n",
       "    <tr>\n",
       "      <th>4979</th>\n",
       "      <td>Joe Swanberg</td>\n",
       "      <td>82.0</td>\n",
       "      <td>30084.0</td>\n",
       "      <td>Comedy|Drama</td>\n",
       "      <td>Happy Christmas</td>\n",
       "      <td>English</td>\n",
       "      <td>USA</td>\n",
       "      <td>70000.0</td>\n",
       "      <td>2014.0</td>\n",
       "      <td>5.6</td>\n",
       "    </tr>\n",
       "    <tr>\n",
       "      <th>5012</th>\n",
       "      <td>David Ayer</td>\n",
       "      <td>109.0</td>\n",
       "      <td>10499968.0</td>\n",
       "      <td>Action|Crime|Drama|Thriller</td>\n",
       "      <td>Sabotage</td>\n",
       "      <td>English</td>\n",
       "      <td>USA</td>\n",
       "      <td>35000000.0</td>\n",
       "      <td>2014.0</td>\n",
       "      <td>5.7</td>\n",
       "    </tr>\n",
       "    <tr>\n",
       "      <th>5037</th>\n",
       "      <td>Edward Burns</td>\n",
       "      <td>95.0</td>\n",
       "      <td>4584.0</td>\n",
       "      <td>Comedy|Drama</td>\n",
       "      <td>Newlyweds</td>\n",
       "      <td>English</td>\n",
       "      <td>USA</td>\n",
       "      <td>9000.0</td>\n",
       "      <td>2011.0</td>\n",
       "      <td>6.4</td>\n",
       "    </tr>\n",
       "  </tbody>\n",
       "</table>\n",
       "<p>879 rows × 10 columns</p>\n",
       "</div>"
      ],
      "text/plain": [
       "          director_name  duration        gross  \\\n",
       "2            Sam Mendes     148.0  200074175.0   \n",
       "3     Christopher Nolan     164.0  448130642.0   \n",
       "5        Andrew Stanton     132.0   73058679.0   \n",
       "8           Joss Whedon     141.0  458991599.0   \n",
       "10          Zack Snyder     183.0  330249062.0   \n",
       "...                 ...       ...          ...   \n",
       "4964          E.L. Katz      88.0      59379.0   \n",
       "4978      Brandon Trost      82.0      40557.0   \n",
       "4979       Joe Swanberg      82.0      30084.0   \n",
       "5012         David Ayer     109.0   10499968.0   \n",
       "5037       Edward Burns      95.0       4584.0   \n",
       "\n",
       "                                  genres                          movie_title  \\\n",
       "2              Action|Adventure|Thriller                             Spectre    \n",
       "3                        Action|Thriller               The Dark Knight Rises    \n",
       "5                Action|Adventure|Sci-Fi                         John Carter    \n",
       "8                Action|Adventure|Sci-Fi             Avengers: Age of Ultron    \n",
       "10               Action|Adventure|Sci-Fi  Batman v Superman: Dawn of Justice    \n",
       "...                                  ...                                  ...   \n",
       "4964  Comedy|Crime|Drama|Horror|Thriller                       Cheap Thrills    \n",
       "4978                              Comedy                              The FP    \n",
       "4979                        Comedy|Drama                     Happy Christmas    \n",
       "5012         Action|Crime|Drama|Thriller                            Sabotage    \n",
       "5037                        Comedy|Drama                           Newlyweds    \n",
       "\n",
       "     language country       budget  title_year  imdb_score  \n",
       "2     English      UK  245000000.0      2015.0         6.8  \n",
       "3     English     USA  250000000.0      2012.0         8.5  \n",
       "5     English     USA  263700000.0      2012.0         6.6  \n",
       "8     English     USA  250000000.0      2015.0         7.5  \n",
       "10    English     USA  250000000.0      2016.0         6.9  \n",
       "...       ...     ...          ...         ...         ...  \n",
       "4964  English     USA     200000.0      2013.0         6.8  \n",
       "4978  English     USA      60000.0      2011.0         5.6  \n",
       "4979  English     USA      70000.0      2014.0         5.6  \n",
       "5012  English     USA   35000000.0      2014.0         5.7  \n",
       "5037  English     USA       9000.0      2011.0         6.4  \n",
       "\n",
       "[879 rows x 10 columns]"
      ]
     },
     "execution_count": 29,
     "metadata": {},
     "output_type": "execute_result"
    }
   ],
   "source": [
    "movie2"
   ]
  },
  {
   "cell_type": "code",
   "execution_count": 30,
   "id": "28494fa5-9335-4c4a-88d2-9eceaa805bac",
   "metadata": {},
   "outputs": [
    {
     "data": {
      "text/plain": [
       "title_year\n",
       "2011.0    175\n",
       "2013.0    171\n",
       "2012.0    166\n",
       "2014.0    159\n",
       "2015.0    139\n",
       "2016.0     69\n",
       "Name: count, dtype: int64"
      ]
     },
     "execution_count": 30,
     "metadata": {},
     "output_type": "execute_result"
    }
   ],
   "source": [
    "movie2.title_year.value_counts()"
   ]
  },
  {
   "cell_type": "markdown",
   "id": "f7d1b19d-211b-4656-98e8-8f3cd350d8a7",
   "metadata": {},
   "source": [
    "the average ,median of duration of the dataset"
   ]
  },
  {
   "cell_type": "code",
   "execution_count": 31,
   "id": "749cfa8a-8d84-4b48-b7ac-2a07ad8d7458",
   "metadata": {},
   "outputs": [
    {
     "data": {
      "text/plain": [
       "110.23435722411831"
      ]
     },
     "execution_count": 31,
     "metadata": {},
     "output_type": "execute_result"
    }
   ],
   "source": [
    "movie2.duration.mean()"
   ]
  },
  {
   "cell_type": "code",
   "execution_count": 32,
   "id": "5b800bae-deee-48ac-b4d3-1c7d7d1a57f7",
   "metadata": {},
   "outputs": [
    {
     "data": {
      "text/plain": [
       "106.0"
      ]
     },
     "execution_count": 32,
     "metadata": {},
     "output_type": "execute_result"
    }
   ],
   "source": [
    "movie2.duration.median()"
   ]
  },
  {
   "cell_type": "markdown",
   "id": "4b185d9e-602f-4359-8a21-77ec924b5865",
   "metadata": {},
   "source": [
    "which directors have the highest average gross revenue for their movies?"
   ]
  },
  {
   "cell_type": "code",
   "execution_count": 44,
   "id": "080b6fad-9572-47bf-8131-3509bbf02d33",
   "metadata": {},
   "outputs": [],
   "source": [
    "w = movie2.groupby(\"director_name\")[\"gross\"].mean()"
   ]
  },
  {
   "cell_type": "code",
   "execution_count": 49,
   "id": "86c2cc99-cdb8-4dcd-b2ea-b76e6e650e26",
   "metadata": {},
   "outputs": [
    {
     "data": {
      "text/plain": [
       "director_name\n",
       "Joss Whedon      5.685169e+08\n",
       "Shane Black      4.089923e+08\n",
       "Chris Buck       4.007366e+08\n",
       "Pierre Coffin    3.680496e+08\n",
       "Tim Miller       3.630243e+08\n",
       "Jon Favreau      3.626451e+08\n",
       "Pete Docter      3.564544e+08\n",
       "Kyle Balda       3.360296e+08\n",
       "Anthony Russo    3.334721e+08\n",
       "James Gunn       3.331307e+08\n",
       "Name: gross, dtype: float64"
      ]
     },
     "execution_count": 49,
     "metadata": {},
     "output_type": "execute_result"
    }
   ],
   "source": [
    "w.nlargest(10)"
   ]
  },
  {
   "cell_type": "code",
   "execution_count": 50,
   "id": "fc23bd21-87ce-4dac-9821-1f254f14606d",
   "metadata": {},
   "outputs": [
    {
     "data": {
      "text/plain": [
       "568516897.6666666"
      ]
     },
     "execution_count": 50,
     "metadata": {},
     "output_type": "execute_result"
    }
   ],
   "source": [
    "w.max()"
   ]
  },
  {
   "cell_type": "markdown",
   "id": "6aa8c8a5-697b-498e-866e-5e277d8ed28e",
   "metadata": {},
   "source": [
    "How has the average budget of movies changed over the years?"
   ]
  },
  {
   "cell_type": "code",
   "execution_count": 53,
   "id": "1c363152-c255-45f5-ba04-415a5dddac9b",
   "metadata": {},
   "outputs": [
    {
     "data": {
      "text/plain": [
       "<Axes: xlabel='title_year'>"
      ]
     },
     "execution_count": 53,
     "metadata": {},
     "output_type": "execute_result"
    },
    {
     "data": {
      "image/png": "[encoded data removed]",
      "text/plain": [
       "<Figure size 640x480 with 1 Axes>"
      ]
     },
     "metadata": {},
     "output_type": "display_data"
    }
   ],
   "source": [
    "movie2.groupby(\"title_year\")[\"budget\"].mean().plot(kind=\"bar\")"
   ]
  },
  {
   "cell_type": "code",
   "execution_count": 56,
   "id": "a0583eea-bb40-421e-b42a-e7a9ad66c951",
   "metadata": {},
   "outputs": [
    {
     "data": {
      "text/plain": [
       "<Axes: xlabel='title_year', ylabel='budget'>"
      ]
     },
     "execution_count": 56,
     "metadata": {},
     "output_type": "execute_result"
    },
    {
     "data": {
      "image/png": "[encoded data removed]",
      "text/plain": [
       "<Figure size 640x480 with 1 Axes>"
      ]
     },
     "metadata": {},
     "output_type": "display_data"
    }
   ],
   "source": [
    "sns.barplot(movie2.groupby(\"title_year\")[\"budget\"].mean())"
   ]
  },
  {
   "cell_type": "code",
   "execution_count": 59,
   "id": "12cccfbf-b318-4aa9-a661-3efeba274044",
   "metadata": {},
   "outputs": [
    {
     "data": {
      "text/plain": [
       "<Axes: xlabel='title_year', ylabel='budget'>"
      ]
     },
     "execution_count": 59,
     "metadata": {},
     "output_type": "execute_result"
    },
    {
     "data": {
      "image/png": "[encoded data removed]",
      "text/plain": [
       "<Figure size 640x480 with 1 Axes>"
      ]
     },
     "metadata": {},
     "output_type": "display_data"
    }
   ],
   "source": [
    "sns.barplot(data=movie2,x=\"title_year\",y=\"budget\",estimator=\"mean\")"
   ]
  },
  {
   "cell_type": "markdown",
   "id": "d5fe6a8d-5f26-453a-837b-289998ed52c6",
   "metadata": {},
   "source": [
    "How has the gross revenue of movies changed over the years?"
   ]
  },
  {
   "cell_type": "code",
   "execution_count": 60,
   "id": "9ca3e07a-3a5f-4c63-ae80-7b0130928752",
   "metadata": {},
   "outputs": [
    {
     "data": {
      "text/plain": [
       "<Axes: xlabel='title_year', ylabel='gross'>"
      ]
     },
     "execution_count": 60,
     "metadata": {},
     "output_type": "execute_result"
    },
    {
     "data": {
      "image/png": "[encoded data removed]",
      "text/plain": [
       "<Figure size 640x480 with 1 Axes>"
      ]
     },
     "metadata": {},
     "output_type": "display_data"
    }
   ],
   "source": [
    "sns.lineplot(data=movie2,x=\"title_year\",y=\"gross\",estimator=sum)"
   ]
  },
  {
   "cell_type": "markdown",
   "id": "974e916e-af09-4dc6-96c0-46985d93560e",
   "metadata": {},
   "source": [
    "what is the average imdb score for movies in different genres?"
   ]
  },
  {
   "cell_type": "code",
   "execution_count": 62,
   "id": "397f8639-08b0-45c6-b32c-568093900d08",
   "metadata": {},
   "outputs": [
    {
     "data": {
      "text/plain": [
       "genres\n",
       "Action                                                   5.400000\n",
       "Action|Adventure                                         5.933333\n",
       "Action|Adventure|Animation|Comedy|Drama|Family|Sci-Fi    7.900000\n",
       "Action|Adventure|Animation|Comedy|Family                 7.250000\n",
       "Action|Adventure|Animation|Comedy|Family|Fantasy         7.466667\n",
       "                                                           ...   \n",
       "Mystery|Sci-Fi|Thriller                                  7.300000\n",
       "Mystery|Thriller                                         6.266667\n",
       "Romance|Sci-Fi|Thriller                                  7.100000\n",
       "Sci-Fi|Thriller                                          6.400000\n",
       "Thriller                                                 4.800000\n",
       "Name: imdb_score, Length: 302, dtype: float64"
      ]
     },
     "execution_count": 62,
     "metadata": {},
     "output_type": "execute_result"
    }
   ],
   "source": [
    "movie2.groupby(\"genres\")[\"imdb_score\"].mean()"
   ]
  },
  {
   "cell_type": "code",
   "execution_count": 65,
   "id": "aaebf460-d281-4227-9769-a71db75e43f9",
   "metadata": {},
   "outputs": [
    {
     "data": {
      "text/plain": [
       "<Axes: ylabel='imdb_score'>"
      ]
     },
     "execution_count": 65,
     "metadata": {},
     "output_type": "execute_result"
    },
    {
     "data": {
      "image/png": "[encoded data removed]",
      "text/plain": [
       "<Figure size 640x480 with 1 Axes>"
      ]
     },
     "metadata": {},
     "output_type": "display_data"
    }
   ],
   "source": [
    "sns.violinplot(movie2.groupby(\"genres\")[\"imdb_score\"].mean())"
   ]
  },
  {
   "cell_type": "markdown",
   "id": "187bf568-ee71-4624-a219-411daf2d83e0",
   "metadata": {},
   "source": [
    "How does the average gross revenue differ between  movies of different languages?"
   ]
  },
  {
   "cell_type": "code",
   "execution_count": 68,
   "id": "74b6329e-5dcf-42f9-a722-0b9515c44ff9",
   "metadata": {},
   "outputs": [
    {
     "data": {
      "text/plain": [
       "language\n",
       "English       845\n",
       "Spanish         7\n",
       "Mandarin        5\n",
       "French          3\n",
       "Indonesian      2\n",
       "Portuguese      2\n",
       "Hindi           2\n",
       "Cantonese       2\n",
       "Italian         1\n",
       "Icelandic       1\n",
       "Bosnian         1\n",
       "Japanese        1\n",
       "Norwegian       1\n",
       "German          1\n",
       "Danish          1\n",
       "Telugu          1\n",
       "Persian         1\n",
       "Hebrew          1\n",
       "Name: count, dtype: int64"
      ]
     },
     "execution_count": 68,
     "metadata": {},
     "output_type": "execute_result"
    }
   ],
   "source": [
    "movie2.language.value_counts()"
   ]
  },
  {
   "cell_type": "code",
   "execution_count": 71,
   "id": "25f2a11a-a632-4d72-b8f9-1c34b94850b3",
   "metadata": {},
   "outputs": [
    {
     "data": {
      "text/plain": [
       "language\n",
       "Bosnian       3.013050e+05\n",
       "Cantonese     1.127813e+06\n",
       "Danish        6.109680e+05\n",
       "English       6.582609e+07\n",
       "French        3.028427e+05\n",
       "German        1.004120e+05\n",
       "Hebrew        3.415100e+04\n",
       "Hindi         3.639520e+06\n",
       "Icelandic     1.183500e+04\n",
       "Indonesian    2.294672e+06\n",
       "Italian       2.835886e+06\n",
       "Japanese      2.277000e+04\n",
       "Mandarin      1.483351e+06\n",
       "Norwegian     1.196752e+06\n",
       "Persian       7.098492e+06\n",
       "Portuguese    1.979925e+05\n",
       "Spanish       1.051261e+07\n",
       "Telugu        6.498000e+06\n",
       "Name: gross, dtype: float64"
      ]
     },
     "execution_count": 71,
     "metadata": {},
     "output_type": "execute_result"
    }
   ],
   "source": [
    "movie2.groupby(\"language\")[\"gross\"].mean()"
   ]
  },
  {
   "cell_type": "code",
   "execution_count": 77,
   "id": "70c7745e-f04d-4c83-9bb2-391ca1248ded",
   "metadata": {},
   "outputs": [
    {
     "data": {
      "text/plain": [
       "<Axes: xlabel='language', ylabel='gross'>"
      ]
     },
     "execution_count": 77,
     "metadata": {},
     "output_type": "execute_result"
    },
    {
     "data": {
      "image/png": "[encoded data removed]",
      "text/plain": [
       "<Figure size 640x480 with 1 Axes>"
      ]
     },
     "metadata": {},
     "output_type": "display_data"
    }
   ],
   "source": [
    "sns.barplot(movie2.groupby(\"language\")[\"gross\"].mean())"
   ]
  },
  {
   "cell_type": "markdown",
   "id": "94d7b9d8-7082-430b-9112-2ebc29f6f756",
   "metadata": {},
   "source": [
    "Are there sprcific genres that tend to have higher budgets?"
   ]
  },
  {
   "cell_type": "code",
   "execution_count": 80,
   "id": "e52c7fd5-71ae-4d74-b8c2-d4654e3beff6",
   "metadata": {},
   "outputs": [
    {
     "data": {
      "text/plain": [
       "genres\n",
       "Action|Adventure|Western                                 2.150000e+08\n",
       "Action|Adventure|Fantasy|Sci-Fi                          2.125000e+08\n",
       "Adventure|Fantasy                                        2.125000e+08\n",
       "Action|Adventure|Fantasy|Sci-Fi|Thriller                 2.000000e+08\n",
       "Action|Adventure|Family|Mystery|Sci-Fi                   1.900000e+08\n",
       "Action|Adventure|Sci-Fi                                  1.875292e+08\n",
       "Action|Adventure|Drama|Romance                           1.800000e+08\n",
       "Action|Adventure|Family|Fantasy|Romance                  1.800000e+08\n",
       "Adventure|Animation|Comedy|Drama|Family|Fantasy          1.750000e+08\n",
       "Adventure|Drama|Family|Fantasy                           1.750000e+08\n",
       "Action|Adventure|Drama|Sci-Fi                            1.700000e+08\n",
       "Adventure|Drama|Family|Mystery                           1.700000e+08\n",
       "Adventure|Animation|Comedy|Family|Sport                  1.675000e+08\n",
       "Action|Adventure|Animation|Comedy|Drama|Family|Sci-Fi    1.650000e+08\n",
       "Adventure|Sci-Fi                                         1.600000e+08\n",
       "Action|Adventure|Thriller                                1.558750e+08\n",
       "Action|Adventure|Drama|Fantasy                           1.533333e+08\n",
       "Action|Adventure|Comedy|Family|Fantasy|Sci-Fi            1.520000e+08\n",
       "Action|Adventure|Fantasy                                 1.505000e+08\n",
       "Action|Adventure|Animation|Comedy|Family|Sci-Fi          1.500000e+08\n",
       "Name: budget, dtype: float64"
      ]
     },
     "execution_count": 80,
     "metadata": {},
     "output_type": "execute_result"
    }
   ],
   "source": [
    "movie2.groupby(\"genres\")[\"budget\"].mean().nlargest(20)"
   ]
  },
  {
   "cell_type": "markdown",
   "id": "c229fea6-f498-419d-9770-6f18b5402715",
   "metadata": {},
   "source": [
    "how does the duration of movies vary by genre?"
   ]
  },
  {
   "cell_type": "code",
   "execution_count": 81,
   "id": "c6dda955-02b7-4a05-960b-ec23af104e7a",
   "metadata": {},
   "outputs": [
    {
     "data": {
      "text/plain": [
       "genres\n",
       "Biography|Comedy|Crime|Drama                240.000000\n",
       "Crime|Drama|Mystery|Thriller|Western        187.000000\n",
       "Biography|Crime|Drama|History|Music         167.000000\n",
       "Adventure|Fantasy                           161.500000\n",
       "Adventure|Drama|Sci-Fi                      160.000000\n",
       "Action|Adventure|Drama|Fantasy|War          159.000000\n",
       "Drama|Musical|Romance                       158.000000\n",
       "Adventure|Drama|Thriller|Western            156.000000\n",
       "Action|Adventure|Western                    150.000000\n",
       "Biography|Drama|History|War                 150.000000\n",
       "Action|Adventure|Fantasy|Sci-Fi|Thriller    149.000000\n",
       "Comedy|Crime|Drama|Mystery|Romance          148.000000\n",
       "Drama|History|Romance|War                   146.000000\n",
       "Action|Drama|Thriller|War                   144.000000\n",
       "Drama|Western                               143.500000\n",
       "Drama|History|Thriller                      143.000000\n",
       "Action|Adventure|Fantasy|Sci-Fi             142.500000\n",
       "Action|Biography|Drama|History|War          139.000000\n",
       "Biography|Drama|Music                       139.000000\n",
       "Action|Adventure|Sci-Fi                     137.166667\n",
       "Name: duration, dtype: float64"
      ]
     },
     "execution_count": 81,
     "metadata": {},
     "output_type": "execute_result"
    }
   ],
   "source": [
    "movie2.groupby(\"genres\")[\"duration\"].mean().nlargest(20)"
   ]
  },
  {
   "cell_type": "code",
   "execution_count": 84,
   "id": "333c2d48-5791-4f81-9fd9-e5d2c3b27202",
   "metadata": {},
   "outputs": [
    {
     "data": {
      "text/plain": [
       "director_name\n",
       "Steven Spielberg       5\n",
       "Ridley Scott           5\n",
       "Steven Soderbergh      5\n",
       "Jaume Collet-Serra     5\n",
       "David Ayer             5\n",
       "Joe Wright             4\n",
       "Michael Bay            4\n",
       "Kenneth Branagh        4\n",
       "Angelina Jolie Pitt    4\n",
       "James Wan              4\n",
       "Name: count, dtype: int64"
      ]
     },
     "execution_count": 84,
     "metadata": {},
     "output_type": "execute_result"
    }
   ],
   "source": [
    "movie2.director_name.value_counts().nlargest(10)"
   ]
  },
  {
   "cell_type": "code",
   "execution_count": null,
   "id": "ead33870-5888-4ad2-a69d-d124c784dab2",
   "metadata": {},
   "outputs": [],
   "source": [
    "How do movies with higher imdb scores perform in terms of gross revenue compared to those with lower scores?"
   ]
  },
  {
   "cell_type": "markdown",
   "id": "fa4f410e-5a32-4e04-9019-8ff31811b7e9",
   "metadata": {},
   "source": [
    "How does movies with different imdb scores ranges compare in terms of average gross revenue?"
   ]
  },
  {
   "cell_type": "code",
   "execution_count": 87,
   "id": "9a5dec85-8847-47f5-a9b8-dab6c907c624",
   "metadata": {},
   "outputs": [],
   "source": [
    "mov0_4=movie2[movie2[\"imdb_score\"].between(0,4)]"
   ]
  },
  {
   "cell_type": "code",
   "execution_count": 88,
   "id": "721feca1-905d-4c70-91f9-c6d67494fc58",
   "metadata": {},
   "outputs": [],
   "source": [
    "mov4_6=movie2[movie2[\"imdb_score\"].between(4,6)]"
   ]
  },
  {
   "cell_type": "code",
   "execution_count": 89,
   "id": "9c1f9afd-b48e-4094-a231-83e3f32bb1b7",
   "metadata": {},
   "outputs": [],
   "source": [
    "mov6_8=movie2[movie2[\"imdb_score\"].between(6,8)]"
   ]
  },
  {
   "cell_type": "code",
   "execution_count": 90,
   "id": "63edc70f-03c5-463d-bd9f-098aceb7a0bb",
   "metadata": {},
   "outputs": [],
   "source": [
    "mov8_10=movie2[movie2[\"imdb_score\"].between(8,10)]"
   ]
  },
  {
   "cell_type": "code",
   "execution_count": 95,
   "id": "7047716c-6f08-4aa6-a3dc-b06d9dcb9284",
   "metadata": {},
   "outputs": [],
   "source": [
    "A =mov0_4.gross.mean()"
   ]
  },
  {
   "cell_type": "code",
   "execution_count": 96,
   "id": "34dcd0fa-bbeb-4de7-8edd-e38de37bb45b",
   "metadata": {},
   "outputs": [],
   "source": [
    "B = mov4_6.gross.mean()"
   ]
  },
  {
   "cell_type": "code",
   "execution_count": 102,
   "id": "4e26c456-9531-496e-a856-11a2e5267c5d",
   "metadata": {},
   "outputs": [],
   "source": [
    "C= mov6_8.gross.mean()"
   ]
  },
  {
   "cell_type": "code",
   "execution_count": 98,
   "id": "38ee6d57-e741-41f8-90f5-e49c8192fb9b",
   "metadata": {},
   "outputs": [],
   "source": [
    "D=mov8_10.gross.mean()"
   ]
  },
  {
   "cell_type": "code",
   "execution_count": 113,
   "id": "cc7e16c5-8ccb-4b88-8117-b08f992d0a91",
   "metadata": {},
   "outputs": [
    {
     "data": {
      "image/png": "[encoded data removed]",
      "text/plain": [
       "<Figure size 640x480 with 1 Axes>"
      ]
     },
     "metadata": {},
     "output_type": "display_data"
    }
   ],
   "source": [
    "plt.bar([\"mov0_4\",\"mov4_6\",\"mov6_8\",\"mov8_10\"],[A,B,C,D])\n",
    "plt.show()"
   ]
  },
  {
   "cell_type": "markdown",
   "id": "7bc7ce0c-b714-41cc-887b-d5610a85c783",
   "metadata": {},
   "source": [
    "how has the number of movies produced each year changed over time?"
   ]
  },
  {
   "cell_type": "code",
   "execution_count": 112,
   "id": "5f75e5d9-bcfe-4ea4-8a0b-13f259b69acc",
   "metadata": {},
   "outputs": [
    {
     "data": {
      "image/png": "[encoded data removed]",
      "text/plain": [
       "<Figure size 640x480 with 1 Axes>"
      ]
     },
     "metadata": {},
     "output_type": "display_data"
    }
   ],
   "source": [
    "movie2.title_year.value_counts().plot(kind=\"bar\")\n",
    "plt.show()"
   ]
  },
  {
   "cell_type": "markdown",
   "id": "434ac9e6-9acb-4819-8f6b-65e70b309ddc",
   "metadata": {},
   "source": [
    "how do the average budgets of movies released each year compare?"
   ]
  },
  {
   "cell_type": "code",
   "execution_count": 111,
   "id": "3f0a2755-0c38-466c-a3e2-beba11e7da71",
   "metadata": {},
   "outputs": [
    {
     "data": {
      "image/png": "[encoded data removed]",
      "text/plain": [
       "<Figure size 640x480 with 1 Axes>"
      ]
     },
     "metadata": {},
     "output_type": "display_data"
    }
   ],
   "source": [
    "sns.lineplot(movie2.groupby(\"title_year\")[\"budget\"].mean())\n",
    "plt.show()"
   ]
  },
  {
   "cell_type": "code",
   "execution_count": null,
   "id": "03a74a90-7111-4a81-82e9-1c020445b81f",
   "metadata": {},
   "outputs": [],
   "source": []
  }
 ],
 "metadata": {
  "kernelspec": {
   "display_name": "Python 3 (ipykernel)",
   "language": "python",
   "name": "python3"
  },
  "language_info": {
   "codemirror_mode": {
    "name": "ipython",
    "version": 3
   },
   "file_extension": ".py",
   "mimetype": "text/x-python",
   "name": "python",
   "nbconvert_exporter": "python",
   "pygments_lexer": "ipython3",
   "version": "3.11.5"
  }
 },
 "nbformat": 4,
 "nbformat_minor": 5
}
